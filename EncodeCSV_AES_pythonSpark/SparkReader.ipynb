{
 "cells": [
  {
   "cell_type": "code",
   "execution_count": 21,
   "metadata": {
    "collapsed": false
   },
   "outputs": [],
   "source": [
    "import os\n",
    "import sys\n",
    "spark_home = os.environ.get('SPARK_HOME', None)\n",
    "sys.path.insert(0, spark_home + \"/python\")\n",
    "sys.path.insert(0, os.path.join(spark_home, 'python/lib/py4j-0.8.2.1-src.zip'))\n",
    "\n",
    "from pyspark import SparkContext,SparkConf\n",
    "from pyspark.sql import SQLContext\n",
    "from pyspark.sql.types import *\n",
    "\n",
    "from Crypto.Cipher import AES\n",
    "import random"
   ]
  },
  {
   "cell_type": "code",
   "execution_count": 4,
   "metadata": {
    "collapsed": false
   },
   "outputs": [],
   "source": [
    "conf = SparkConf().setAppName(\"testCSVEncode\").setMaster(\"local[4]\")\n",
    "sc = SparkContext(conf = conf)\n",
    "sqlContext = SQLContext(sc)"
   ]
  },
  {
   "cell_type": "code",
   "execution_count": 5,
   "metadata": {
    "collapsed": false
   },
   "outputs": [
    {
     "name": "stdout",
     "output_type": "stream",
     "text": [
      "HHHHHHHHHHHHHHHH\n"
     ]
    }
   ],
   "source": [
    "iv = ''.join(chr(random.randint(0x48,0x48)) for i in range(16))\n",
    "\n",
    "key = '0123456789abcdef'\n",
    "\n",
    "def map_decode_txt(x):\n",
    "\n",
    "    liczbyStr = x.split(' ')\n",
    "    liczby = [int(x) for x in liczbyStr]\n",
    "    decryptor = AES.new(key, AES.MODE_CBC, iv)                \n",
    "    recoded = decryptor.decrypt(bytes(liczby))\n",
    "    recodedTxt = [ chr(r) for r in recoded]\n",
    "    \n",
    "    drop = 1\n",
    "    n = len(recoded)\n",
    "    \n",
    "    print(n)\n",
    "    if recoded[n-drop] == 0x00:\n",
    "        drop+=1\n",
    "        while(recoded[n-drop] == 0x00):\n",
    "            drop+=1 \n",
    "    \n",
    "    rr = ''.join(recodedTxt[0:n-drop+1])\n",
    "    \n",
    "    return(rr)"
   ]
  },
  {
   "cell_type": "code",
   "execution_count": 6,
   "metadata": {
    "collapsed": false
   },
   "outputs": [
    {
     "data": {
      "text/plain": [
       "10001"
      ]
     },
     "execution_count": 6,
     "metadata": {},
     "output_type": "execute_result"
    }
   ],
   "source": [
    "rdd = sc.textFile('testBig2.csv.enc')\n",
    "rdd.count()"
   ]
  },
  {
   "cell_type": "code",
   "execution_count": 7,
   "metadata": {
    "collapsed": false
   },
   "outputs": [],
   "source": [
    "rddRecoded = (rdd.map(map_decode_txt)\n",
    "                 .map( lambda x: x.split(';'))\n",
    "                 .cache() \n",
    "              )\n",
    "colnames = rddRecoded.first()\n",
    "schemaString = ' '.join(colnames)\n",
    "\n",
    "fields = [StructField(field_name, StringType(), True) for field_name in schemaString.split()]\n",
    "schema = StructType(fields)\n",
    "\n",
    "schema = StructType(fields)\n",
    "\n",
    "rddWithoutFirstRow = rddRecoded.zipWithIndex().filter(lambda x: x[1] > 0 ).map(lambda x: x[0])\n",
    "\n",
    "df = sqlContext.createDataFrame(rddWithoutFirstRow, schema)"
   ]
  },
  {
   "cell_type": "code",
   "execution_count": 8,
   "metadata": {
    "collapsed": false
   },
   "outputs": [
    {
     "name": "stdout",
     "output_type": "stream",
     "text": [
      "+------------------+-------------------+----------------+------------------+-----------------+-----------------+-----------------+----------------+------------------+------------------+----------------+-------------------+------------------+------------------+---------------+------------------+-----------------+------------------+-----------------+------------------+----------------+-----------------+-----------------+------------------+------------------+------------------+-----------------+-------------------+------------------+-----------------+------------------+------------------+------------------+-----------------+----------------+-----------------+-----------------+-----------------+------------------+-------------------+-----------------+-----------------+-----------------+----------------+-----------------+-----------------+-----------------+----------------+-----------------+-----------------+-----------------+----------------+----------------+------------------+------------------+------------------+-----------------+---------------+------------------+-----------------+----------------+----------------+-----------------+------------------+-----------------+------------------+-----------------+------------------+-----------------+----------------+-----------------+----------------+-----------------+----------------+------------------+-----------------+------------------+------------------+-----------------+------------------+-------------------+------------------+------------------+----------------+------------------+-----------------+-----------------+------------------+-------------------+----------------+------------------+----------------+-----------------+-----------------+------------------+-----------------+----------------+-----------------+------------------+------------------+-------+-----------+-------+-------+-------+-------+-------+-------+-----------+-----------+---------+-------+-----------+---------+---------+---------+---------+---------+-------+---------+-----------+---------+-------+-------+---------+---------+-------+-------+-----------+-------+-----------+---------+---------+-------+-------+---------+---------+-------+---------+-----------+---------+-----------+-----------+---------+---------+-----------+-------+-------+---------+------------+\n",
      "|              var1|               var2|            var3|              var4|             var5|             var6|             var7|            var8|              var9|             var10|           var11|              var12|             var13|             var14|          var15|             var16|            var17|             var18|            var19|             var20|           var21|            var22|            var23|             var24|             var25|             var26|            var27|              var28|             var29|            var30|             var31|             var32|             var33|            var34|           var35|            var36|            var37|            var38|             var39|              var40|            var41|            var42|            var43|           var44|            var45|            var46|            var47|           var48|            var49|            var50|            var51|           var52|           var53|             var54|             var55|             var56|            var57|          var58|             var59|            var60|           var61|           var62|            var63|             var64|            var65|             var66|            var67|             var68|            var69|           var70|            var71|           var72|            var73|           var74|             var75|            var76|             var77|             var78|            var79|             var80|              var81|             var82|             var83|           var84|             var85|            var86|            var87|             var88|              var89|           var90|             var91|           var92|            var93|            var94|             var95|            var96|           var97|            var98|             var99|            var100| var101|     var102| var103| var104| var105| var106| var107| var108|     var109|     var110|   var111| var112|     var113|   var114|   var115|   var116|   var117|   var118| var119|   var120|     var121|   var122| var123| var124|   var125|   var126| var127| var128|     var129| var130|     var131|   var132|   var133| var134| var135|   var136|   var137| var138|   var139|     var140|   var141|     var142|     var143|   var144|   var145|     var146| var147| var148|   var149|      var150|\n",
      "+------------------+-------------------+----------------+------------------+-----------------+-----------------+-----------------+----------------+------------------+------------------+----------------+-------------------+------------------+------------------+---------------+------------------+-----------------+------------------+-----------------+------------------+----------------+-----------------+-----------------+------------------+------------------+------------------+-----------------+-------------------+------------------+-----------------+------------------+------------------+------------------+-----------------+----------------+-----------------+-----------------+-----------------+------------------+-------------------+-----------------+-----------------+-----------------+----------------+-----------------+-----------------+-----------------+----------------+-----------------+-----------------+-----------------+----------------+----------------+------------------+------------------+------------------+-----------------+---------------+------------------+-----------------+----------------+----------------+-----------------+------------------+-----------------+------------------+-----------------+------------------+-----------------+----------------+-----------------+----------------+-----------------+----------------+------------------+-----------------+------------------+------------------+-----------------+------------------+-------------------+------------------+------------------+----------------+------------------+-----------------+-----------------+------------------+-------------------+----------------+------------------+----------------+-----------------+-----------------+------------------+-----------------+----------------+-----------------+------------------+------------------+-------+-----------+-------+-------+-------+-------+-------+-------+-----------+-----------+---------+-------+-----------+---------+---------+---------+---------+---------+-------+---------+-----------+---------+-------+-------+---------+---------+-------+-------+-----------+-------+-----------+---------+---------+-------+-------+---------+---------+-------+---------+-----------+---------+-----------+-----------+---------+---------+-----------+-------+-------+---------+------------+\n",
      "|-0.464081047906805|-0.0899896048777299|-1.3884975486792|-0.671666016842399|0.300941130408591|-1.34942612817908|-1.00561730947988|-1.1564481156205|0.0881070759556764|-0.535609806584052|-1.7163002899686|-0.0466255133356034|-0.214468925474253|-0.342493047556261|1.4490838916379|-0.703970009229017|-1.39693667531147|-0.632827420309868|0.227043655228782|-0.325296157484793|2.77689749319645|-1.33259557738982|-1.33802323494065|-0.770032317888429|-0.909208265420489|-0.379671201387307|0.189248881433853|-0.0803811712148043|-0.275357108223253|0.875786137788887|-0.113309420634697|-0.818787760673318|-0.742373280311052|-1.33453383131909|0.36129583877641|-1.56120047524083|-1.28580614114515|0.429339618190202|-0.452748013225143|-0.0770756899426867|-1.24296449540369|-1.57649651722609|-1.09831559069523|-0.2072456985522|-1.53905462904278|0.269754498095918|0.992129726659865|1.38817619536872|-1.35438759208402|0.967688277232026|-1.55051156891617|1.43888557444914|1.55884191267709|-0.300120019245803|-0.880655209134416|-0.535610713936605|0.813119755016316|-1.762554906797|0.0606669441200884|-0.40032256218517|1.05145530571694|2.18390896719377|0.816712819034651|-0.583899447363812|0.408368094878447|-0.276767518775399|0.173332260731376|-0.646329040808867|0.219132417942962|1.57749921119922|0.967436183039648|1.82989084108499|-1.88998654013153|1.08207259309853|-0.171581989097524|0.102386475455364|-0.693707956840731|-0.159551045324553|0.875843638749214|-0.307456714589849|-0.0187829745090417|0.0921289882996596|-0.893284830227553|2.26065887290019|-0.505233172472234|0.867632567410329|-1.61455006461517|0.0138272639288252|-0.0673738363623144|1.78835849160076|-0.688534241899506|2.70028400078805|-1.09525490553182|0.758092208871947|-0.951681377279998|-2.59729615920267|1.44615591679862|-0.73435246164426|-0.461309257459558|0.0143949138887485|tekst 1|te   df d f|tekst 1|tekst 1|tekst 1|tekst 1|tekst 1|tekst 1|te   df d f|te   df d f|aaaaaaaaa|tekst 1|te   df d f|aaaaaaaaa|aaaaaaaaa|aaaaaaaaa|aaaaaaaaa|aaaaaaaaa|tekst 1|aaaaaaaaa|te   df d f|aaaaaaaaa|tekst 1|tekst 1|aaaaaaaaa|aaaaaaaaa|tekst 1|tekst 1|te   df d f|tekst 1|te   df d f|aaaaaaaaa|aaaaaaaaa|tekst 1|tekst 1|aaaaaaaaa|aaaaaaaaa|tekst 1|aaaaaaaaa|te   df d f|aaaaaaaaa|te   df d f|te   df d f|aaaaaaaaa|aaaaaaaaa|te   df d f|tekst 1|tekst 1|aaaaaaaaa|te   df d f\n",
      "|\n",
      "+------------------+-------------------+----------------+------------------+-----------------+-----------------+-----------------+----------------+------------------+------------------+----------------+-------------------+------------------+------------------+---------------+------------------+-----------------+------------------+-----------------+------------------+----------------+-----------------+-----------------+------------------+------------------+------------------+-----------------+-------------------+------------------+-----------------+------------------+------------------+------------------+-----------------+----------------+-----------------+-----------------+-----------------+------------------+-------------------+-----------------+-----------------+-----------------+----------------+-----------------+-----------------+-----------------+----------------+-----------------+-----------------+-----------------+----------------+----------------+------------------+------------------+------------------+-----------------+---------------+------------------+-----------------+----------------+----------------+-----------------+------------------+-----------------+------------------+-----------------+------------------+-----------------+----------------+-----------------+----------------+-----------------+----------------+------------------+-----------------+------------------+------------------+-----------------+------------------+-------------------+------------------+------------------+----------------+------------------+-----------------+-----------------+------------------+-------------------+----------------+------------------+----------------+-----------------+-----------------+------------------+-----------------+----------------+-----------------+------------------+------------------+-------+-----------+-------+-------+-------+-------+-------+-------+-----------+-----------+---------+-------+-----------+---------+---------+---------+---------+---------+-------+---------+-----------+---------+-------+-------+---------+---------+-------+-------+-----------+-------+-----------+---------+---------+-------+-------+---------+---------+-------+---------+-----------+---------+-----------+-----------+---------+---------+-----------+-------+-------+---------+------------+\n",
      "only showing top 1 row\n",
      "\n"
     ]
    }
   ],
   "source": [
    "df.show(1)"
   ]
  },
  {
   "cell_type": "code",
   "execution_count": 9,
   "metadata": {
    "collapsed": false
   },
   "outputs": [
    {
     "name": "stdout",
     "output_type": "stream",
     "text": [
      "root\n",
      " |-- var1: string (nullable = true)\n",
      " |-- var2: string (nullable = true)\n",
      " |-- var3: string (nullable = true)\n",
      " |-- var4: string (nullable = true)\n",
      " |-- var5: string (nullable = true)\n",
      " |-- var6: string (nullable = true)\n",
      " |-- var7: string (nullable = true)\n",
      " |-- var8: string (nullable = true)\n",
      " |-- var9: string (nullable = true)\n",
      " |-- var10: string (nullable = true)\n",
      " |-- var11: string (nullable = true)\n",
      " |-- var12: string (nullable = true)\n",
      " |-- var13: string (nullable = true)\n",
      " |-- var14: string (nullable = true)\n",
      " |-- var15: string (nullable = true)\n",
      " |-- var16: string (nullable = true)\n",
      " |-- var17: string (nullable = true)\n",
      " |-- var18: string (nullable = true)\n",
      " |-- var19: string (nullable = true)\n",
      " |-- var20: string (nullable = true)\n",
      " |-- var21: string (nullable = true)\n",
      " |-- var22: string (nullable = true)\n",
      " |-- var23: string (nullable = true)\n",
      " |-- var24: string (nullable = true)\n",
      " |-- var25: string (nullable = true)\n",
      " |-- var26: string (nullable = true)\n",
      " |-- var27: string (nullable = true)\n",
      " |-- var28: string (nullable = true)\n",
      " |-- var29: string (nullable = true)\n",
      " |-- var30: string (nullable = true)\n",
      " |-- var31: string (nullable = true)\n",
      " |-- var32: string (nullable = true)\n",
      " |-- var33: string (nullable = true)\n",
      " |-- var34: string (nullable = true)\n",
      " |-- var35: string (nullable = true)\n",
      " |-- var36: string (nullable = true)\n",
      " |-- var37: string (nullable = true)\n",
      " |-- var38: string (nullable = true)\n",
      " |-- var39: string (nullable = true)\n",
      " |-- var40: string (nullable = true)\n",
      " |-- var41: string (nullable = true)\n",
      " |-- var42: string (nullable = true)\n",
      " |-- var43: string (nullable = true)\n",
      " |-- var44: string (nullable = true)\n",
      " |-- var45: string (nullable = true)\n",
      " |-- var46: string (nullable = true)\n",
      " |-- var47: string (nullable = true)\n",
      " |-- var48: string (nullable = true)\n",
      " |-- var49: string (nullable = true)\n",
      " |-- var50: string (nullable = true)\n",
      " |-- var51: string (nullable = true)\n",
      " |-- var52: string (nullable = true)\n",
      " |-- var53: string (nullable = true)\n",
      " |-- var54: string (nullable = true)\n",
      " |-- var55: string (nullable = true)\n",
      " |-- var56: string (nullable = true)\n",
      " |-- var57: string (nullable = true)\n",
      " |-- var58: string (nullable = true)\n",
      " |-- var59: string (nullable = true)\n",
      " |-- var60: string (nullable = true)\n",
      " |-- var61: string (nullable = true)\n",
      " |-- var62: string (nullable = true)\n",
      " |-- var63: string (nullable = true)\n",
      " |-- var64: string (nullable = true)\n",
      " |-- var65: string (nullable = true)\n",
      " |-- var66: string (nullable = true)\n",
      " |-- var67: string (nullable = true)\n",
      " |-- var68: string (nullable = true)\n",
      " |-- var69: string (nullable = true)\n",
      " |-- var70: string (nullable = true)\n",
      " |-- var71: string (nullable = true)\n",
      " |-- var72: string (nullable = true)\n",
      " |-- var73: string (nullable = true)\n",
      " |-- var74: string (nullable = true)\n",
      " |-- var75: string (nullable = true)\n",
      " |-- var76: string (nullable = true)\n",
      " |-- var77: string (nullable = true)\n",
      " |-- var78: string (nullable = true)\n",
      " |-- var79: string (nullable = true)\n",
      " |-- var80: string (nullable = true)\n",
      " |-- var81: string (nullable = true)\n",
      " |-- var82: string (nullable = true)\n",
      " |-- var83: string (nullable = true)\n",
      " |-- var84: string (nullable = true)\n",
      " |-- var85: string (nullable = true)\n",
      " |-- var86: string (nullable = true)\n",
      " |-- var87: string (nullable = true)\n",
      " |-- var88: string (nullable = true)\n",
      " |-- var89: string (nullable = true)\n",
      " |-- var90: string (nullable = true)\n",
      " |-- var91: string (nullable = true)\n",
      " |-- var92: string (nullable = true)\n",
      " |-- var93: string (nullable = true)\n",
      " |-- var94: string (nullable = true)\n",
      " |-- var95: string (nullable = true)\n",
      " |-- var96: string (nullable = true)\n",
      " |-- var97: string (nullable = true)\n",
      " |-- var98: string (nullable = true)\n",
      " |-- var99: string (nullable = true)\n",
      " |-- var100: string (nullable = true)\n",
      " |-- var101: string (nullable = true)\n",
      " |-- var102: string (nullable = true)\n",
      " |-- var103: string (nullable = true)\n",
      " |-- var104: string (nullable = true)\n",
      " |-- var105: string (nullable = true)\n",
      " |-- var106: string (nullable = true)\n",
      " |-- var107: string (nullable = true)\n",
      " |-- var108: string (nullable = true)\n",
      " |-- var109: string (nullable = true)\n",
      " |-- var110: string (nullable = true)\n",
      " |-- var111: string (nullable = true)\n",
      " |-- var112: string (nullable = true)\n",
      " |-- var113: string (nullable = true)\n",
      " |-- var114: string (nullable = true)\n",
      " |-- var115: string (nullable = true)\n",
      " |-- var116: string (nullable = true)\n",
      " |-- var117: string (nullable = true)\n",
      " |-- var118: string (nullable = true)\n",
      " |-- var119: string (nullable = true)\n",
      " |-- var120: string (nullable = true)\n",
      " |-- var121: string (nullable = true)\n",
      " |-- var122: string (nullable = true)\n",
      " |-- var123: string (nullable = true)\n",
      " |-- var124: string (nullable = true)\n",
      " |-- var125: string (nullable = true)\n",
      " |-- var126: string (nullable = true)\n",
      " |-- var127: string (nullable = true)\n",
      " |-- var128: string (nullable = true)\n",
      " |-- var129: string (nullable = true)\n",
      " |-- var130: string (nullable = true)\n",
      " |-- var131: string (nullable = true)\n",
      " |-- var132: string (nullable = true)\n",
      " |-- var133: string (nullable = true)\n",
      " |-- var134: string (nullable = true)\n",
      " |-- var135: string (nullable = true)\n",
      " |-- var136: string (nullable = true)\n",
      " |-- var137: string (nullable = true)\n",
      " |-- var138: string (nullable = true)\n",
      " |-- var139: string (nullable = true)\n",
      " |-- var140: string (nullable = true)\n",
      " |-- var141: string (nullable = true)\n",
      " |-- var142: string (nullable = true)\n",
      " |-- var143: string (nullable = true)\n",
      " |-- var144: string (nullable = true)\n",
      " |-- var145: string (nullable = true)\n",
      " |-- var146: string (nullable = true)\n",
      " |-- var147: string (nullable = true)\n",
      " |-- var148: string (nullable = true)\n",
      " |-- var149: string (nullable = true)\n",
      " |-- var150: string (nullable = true)\n",
      "\n"
     ]
    }
   ],
   "source": [
    "df.printSchema()"
   ]
  },
  {
   "cell_type": "code",
   "execution_count": 10,
   "metadata": {
    "collapsed": true
   },
   "outputs": [],
   "source": [
    "df.registerTempTable(\"dfTab\")"
   ]
  },
  {
   "cell_type": "code",
   "execution_count": 18,
   "metadata": {
    "collapsed": true
   },
   "outputs": [],
   "source": [
    "sqlContext.registerFunction( \"stringLength\", lambda x: len(x),IntegerType())"
   ]
  },
  {
   "cell_type": "code",
   "execution_count": 17,
   "metadata": {
    "collapsed": false
   },
   "outputs": [
    {
     "name": "stdout",
     "output_type": "stream",
     "text": [
      "+-------+\n",
      "|    _c0|\n",
      "+-------+\n",
      "|17.1791|\n",
      "+-------+\n",
      "\n"
     ]
    }
   ],
   "source": [
    "sqlContext.sql('SELECT  AVG( stringLength(var1)) FROM dfTab').show()"
   ]
  },
  {
   "cell_type": "code",
   "execution_count": 20,
   "metadata": {
    "collapsed": false
   },
   "outputs": [
    {
     "name": "stdout",
     "output_type": "stream",
     "text": [
      "+--------------------+\n",
      "|                 _c0|\n",
      "+--------------------+\n",
      "|-0.00145957960384...|\n",
      "+--------------------+\n",
      "\n"
     ]
    }
   ],
   "source": [
    "sqlContext.sql('SELECT  AVG(var1) FROM dfTab').show()"
   ]
  },
  {
   "cell_type": "code",
   "execution_count": 67,
   "metadata": {
    "collapsed": true
   },
   "outputs": [],
   "source": [
    "sc.stop()"
   ]
  }
 ],
 "metadata": {
  "kernelspec": {
   "display_name": "Python 3",
   "language": "python",
   "name": "python3"
  },
  "language_info": {
   "codemirror_mode": {
    "name": "ipython",
    "version": 3
   },
   "file_extension": ".py",
   "mimetype": "text/x-python",
   "name": "python",
   "nbconvert_exporter": "python",
   "pygments_lexer": "ipython3",
   "version": "3.5.1"
  }
 },
 "nbformat": 4,
 "nbformat_minor": 0
}
