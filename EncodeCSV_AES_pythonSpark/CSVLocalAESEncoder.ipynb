{
 "cells": [
  {
   "cell_type": "markdown",
   "metadata": {},
   "source": [
    "### Za pomocą poniższych funkcji można zakodować i odkodować plik csv"
   ]
  },
  {
   "cell_type": "code",
   "execution_count": 6,
   "metadata": {
    "collapsed": true
   },
   "outputs": [],
   "source": [
    "from Crypto.Cipher import AES\n",
    "import os, random"
   ]
  },
  {
   "cell_type": "code",
   "execution_count": 7,
   "metadata": {
    "collapsed": true
   },
   "outputs": [],
   "source": [
    "def encrypt_file_txt(key,iv, in_filename, out_filename=None):\n",
    "    if not out_filename:\n",
    "        out_filename = in_filename + '.enc'\n",
    "\n",
    "    with open(in_filename, 'rt',encoding = 'ASCII') as infile:\n",
    "        with open(out_filename, 'wt', encoding = 'ASCII') as outfile:\n",
    "\n",
    "            for line in infile:\n",
    "                \n",
    "                if len(line) == 0:\n",
    "                    break\n",
    "                \n",
    "                chunkBytes = bytes(line,encoding = 'ASCII')\n",
    "\n",
    "                if len(chunkBytes) % 16 != 0:  \n",
    "                    chunkBytes += bytes(16 - len(chunkBytes) % 16)\n",
    "\n",
    "                \n",
    "                encryptor = AES.new(key, AES.MODE_CBC, iv)\n",
    "                codedChunkBytes = encryptor.encrypt(chunkBytes)\n",
    "                \n",
    "                q = [str(int(x)) for x in codedChunkBytes]\n",
    " \n",
    "                outfile.write(' '.join(q)+'\\n')"
   ]
  },
  {
   "cell_type": "code",
   "execution_count": 4,
   "metadata": {
    "collapsed": true
   },
   "outputs": [],
   "source": [
    "def decrypt_file_txt(key,iv, in_filename, out_filename=None):\n",
    "    \n",
    "    if not out_filename:\n",
    "        out_filename = os.path.splitext(in_filename)[0]\n",
    "\n",
    "    with open(in_filename, 'rt', encoding = 'ASCII') as infile:        \n",
    "        with open(out_filename, 'wt',encoding = 'UTF-8') as outfile:\n",
    "            for line in infile:\n",
    "                \n",
    "                liczbyStr = line.split(' ')\n",
    "                liczby = [int(x) for x in liczbyStr]\n",
    "                \n",
    "                decryptor = AES.new(key, AES.MODE_CBC, iv)\n",
    "                recoded = decryptor.decrypt(bytes(liczby))\n",
    "                \n",
    "                for r in recoded:\n",
    "                    if r == 0x00:\n",
    "                        break\n",
    "                    outfile.write(chr(r))"
   ]
  },
  {
   "cell_type": "code",
   "execution_count": 10,
   "metadata": {
    "collapsed": true
   },
   "outputs": [],
   "source": [
    "iv = ''.join(chr(random.randint(0x48,0x48)) for i in range(16))\n",
    "\n",
    "key = '0123456789abcdef'"
   ]
  },
  {
   "cell_type": "code",
   "execution_count": 9,
   "metadata": {
    "collapsed": false
   },
   "outputs": [],
   "source": [
    "\n",
    "encrypt_file_txt(key,iv,'testBig2.csv')"
   ]
  },
  {
   "cell_type": "code",
   "execution_count": 12,
   "metadata": {
    "collapsed": false
   },
   "outputs": [],
   "source": [
    "decrypt_file_txt(key,iv,'testBig2.csv.enc','res.txt')"
   ]
  }
 ],
 "metadata": {
  "kernelspec": {
   "display_name": "Python 3",
   "language": "python",
   "name": "python3"
  },
  "language_info": {
   "codemirror_mode": {
    "name": "ipython",
    "version": 3
   },
   "file_extension": ".py",
   "mimetype": "text/x-python",
   "name": "python",
   "nbconvert_exporter": "python",
   "pygments_lexer": "ipython3",
   "version": "3.5.1"
  }
 },
 "nbformat": 4,
 "nbformat_minor": 0
}
